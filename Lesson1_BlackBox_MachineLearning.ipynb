{
  "nbformat": 4,
  "nbformat_minor": 0,
  "metadata": {
    "colab": {
      "name": "Lesson1-BlackBox-MachineLearning.ipynb",
      "provenance": [],
      "collapsed_sections": []
    },
    "kernelspec": {
      "name": "python3",
      "display_name": "Python 3"
    }
  },
  "cells": [
    {
      "cell_type": "markdown",
      "metadata": {
        "id": "SbqeFrmecUyw",
        "colab_type": "text"
      },
      "source": [
        "**This notebook contains hands on exercises to pratice content provided by lectures of The Course of Foundation of Machine Learning, By David Rosemberg.**\n",
        "\n",
        "[Lesson 1 - BlackBox Machine Learning](https://www.youtube.com/watch?time_continue=5923&v=MsD28INtSv8)\n",
        "\n"
      ]
    },
    {
      "cell_type": "code",
      "metadata": {
        "id": "GGsQdQd_c4h_",
        "colab_type": "code",
        "colab": {}
      },
      "source": [
        ""
      ],
      "execution_count": 0,
      "outputs": []
    },
    {
      "cell_type": "code",
      "metadata": {
        "id": "jJECwnOYcUQP",
        "colab_type": "code",
        "colab": {}
      },
      "source": [
        ""
      ],
      "execution_count": 0,
      "outputs": []
    }
  ]
}